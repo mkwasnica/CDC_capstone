{
 "cells": [
  {
   "cell_type": "code",
   "execution_count": 3,
   "metadata": {},
   "outputs": [],
   "source": [
    "import pandas as pd\n",
    "import numpy as np\n",
    "import re\n",
    "import pickle\n",
    "from sklearn.model_selection import GridSearchCV\n",
    "from sklearn.metrics import r2_score\n",
    "from sklearn.ensemble import RandomForestClassifier\n",
    "from sklearn.preprocessing import LabelEncoder\n",
    "from sklearn import ensemble, linear_model"
   ]
  },
  {
   "cell_type": "markdown",
   "metadata": {},
   "source": [
    "### Functions for cleaning and ML"
   ]
  },
  {
   "cell_type": "code",
   "execution_count": 2,
   "metadata": {},
   "outputs": [],
   "source": [
    "#Clean the df and encode numeric values\n",
    "def cleanDF (df):\n",
    "    r1 = re.compile('.*reporting')\n",
    "    r2 = re.compile('.*imputed')\n",
    "\n",
    "    cols_to_drop1 = list(filter((r1.match), df.columns))\n",
    "    cols_to_drop2 = list(filter((r2.match), df.columns))\n",
    "    cols_to_drop3 = ['admit_NICU']\n",
    "    cols_to_drop = cols_to_drop1 + cols_to_drop2 + cols_to_drop3\n",
    "\n",
    "    cols_to_keep = [col for col in df.columns if col not in cols_to_drop]\n",
    "\n",
    "    X_and_target = df[cols_to_keep + ['admit_NICU']].copy()\n",
    "\n",
    "    numerics = ['int16', 'int32', 'int64', 'float16', 'float32', 'float64']\n",
    "    catDF = X_and_target.select_dtypes(include=object).copy()\n",
    "    numDF = X_and_target.select_dtypes(include=numerics).copy() #only numeric columns\n",
    "\n",
    "    le = LabelEncoder()\n",
    "    catDF = catDF.apply(le.fit_transform)\n",
    "\n",
    "    concat_df = pd.concat([numDF,catDF],axis=1)\n",
    "    return concat_df\n",
    "\n",
    "def GLM_CV_Lasso (cleanDF,sample_per_year):\n",
    "    \n",
    "    dwnSmplDF = cleanDF.groupby('birth_year',group_keys = False).apply(lambda x: x.sample(sample_per_year))\n",
    "    encoded_target = dwnSmplDF['admit_NICU']\n",
    "\n",
    "    glm_lassoCV = linear_model.LogisticRegressionCV(#Cs = int(1e4),\n",
    "                                                cv = 5,\n",
    "                                                penalty = 'l1',\n",
    "                                                solver = 'saga',\n",
    "                                                n_jobs = -1,\n",
    "                                                random_state = 108\n",
    "                                               ).fit(cleanDF, encoded_target)\n",
    "    print('sample size : %d\\n' % (sample_per_year*5))\n",
    "    %time glm_lassoCV.fit(cleanDF, encoded_target)\n",
    "    print('\\nscore    : {0}'.format(glm_lassoCV.score(cleanDF, encoded_target)))\n",
    "    print('-'*50)\n",
    "    return glm_lassoCV\n",
    "\n",
    "def Forest_CV(X,Y):\n",
    "    randomForest = ensemble.RandomForestClassifier()\n",
    "    grid_para_forest = [{\n",
    "        'n_estimators': np.linspace(50,int(np.sqrt(len(cl_df))),10,dtype=int),\n",
    "        'min_samples_leaf' : range(100,1000,100)\n",
    "    }]\n",
    "    randomForest.set_params(random_state=108)\n",
    "    gs_forest = GridSearchCV(randomForest, grid_para_forest, scoring='accuracy', \n",
    "                                      cv=5, n_jobs=-1)\n",
    "    %time gs_forest.fit(X, Y)\n",
    "    return gs_forest\n",
    "\n",
    "def RF (X,Y,gs):\n",
    "    bestRF = ensemble.RandomForestClassifier()\n",
    "    best_params = gs.best_params_\n",
    "    bestRF.set_params(random_state=108,n_jobs= -1,oob_score = True,**best_params)\n",
    "    bestRF.fit(X,Y)\n",
    "    return bestRF\n",
    "\n",
    "def pred_resultsRF(fullDF, gsf, rf):\n",
    "    X_bal = fullDF.drop('admit_NICU',axis=1)\n",
    "    y_pred = rf.predict(X_bal)\n",
    "\n",
    "    #Use sklearn's confusion_matrix on real and predicted y\n",
    "    from sklearn.metrics import confusion_matrix\n",
    "    cf = confusion_matrix(fullDF.admit_NICU, y_pred)\n",
    "    print(cf/len(fullDF)*100)\n",
    "\n",
    "    print(\n",
    "        '''Random Forest\n",
    "    best param : {0}\n",
    "    best score : {1}\n",
    "    r2         : {2}'''\\\n",
    "          .format(gsf.best_params_,\\\n",
    "                  gsf.best_score_, \\\n",
    "                  r2_score(fullDF.admit_NICU, y_pred))\n",
    "         )\n",
    "    return\n",
    "\n",
    "def pred_resultsGLM(glm):\n",
    "    print('sample size: {0} \\nscore: {1}\\nr2: {2}'\n",
    "          .format(len(encoded_target), \\\n",
    "            glm.score(cl_df, encoded_target), \\\n",
    "            r2_score(encoded_target, glm.predict(cl_df))))\n",
    "    return\n",
    "\n",
    "def feature_select(X,rf):\n",
    "    sampRF_coefs = pd.DataFrame({'col' :list(X.columns), \n",
    "                           'features': rf.feature_importances_})\n",
    "    return sampRF_coefs.nlargest(20,'features')"
   ]
  },
  {
   "cell_type": "markdown",
   "metadata": {},
   "source": [
    "### Load data and clean"
   ]
  },
  {
   "cell_type": "code",
   "execution_count": 2,
   "metadata": {},
   "outputs": [],
   "source": [
    "totDF = pd.read_csv('../data/raw/Cleaned_data_set.csv')\n",
    "cl_df = cleanDF(totDF)"
   ]
  },
  {
   "cell_type": "markdown",
   "metadata": {},
   "source": [
    "### GLM"
   ]
  },
  {
   "cell_type": "code",
   "execution_count": null,
   "metadata": {},
   "outputs": [],
   "source": [
    "logit_1 = GLM_CV_Lasso(cl_df,20000)"
   ]
  },
  {
   "cell_type": "code",
   "execution_count": null,
   "metadata": {},
   "outputs": [],
   "source": [
    "pred_resultsGLM(logit_1)"
   ]
  },
  {
   "cell_type": "markdown",
   "metadata": {},
   "source": [
    "### Create a col of Y and N"
   ]
  },
  {
   "cell_type": "code",
   "execution_count": 4,
   "metadata": {},
   "outputs": [],
   "source": [
    "nicu_allY = cl_df.loc[cl_df['admit_NICU']==2]\n",
    "nicu_allN = cl_df.loc[cl_df['admit_NICU']==0]\n",
    "nicu_YN = pd.concat([nicu_allY,nicu_allN],axis=0)"
   ]
  },
  {
   "cell_type": "markdown",
   "metadata": {},
   "source": [
    "### RF on Balanced Sample per year"
   ]
  },
  {
   "cell_type": "code",
   "execution_count": 5,
   "metadata": {},
   "outputs": [],
   "source": [
    "sample_per_year = 10000\n",
    "bal_dwnSmplY = nicu_allY.groupby('birth_year',group_keys = False).apply(lambda x: x.sample(sample_per_year))\n",
    "bal_dwnSmplN = nicu_allN.groupby('birth_year',group_keys = False).apply(lambda x: x.sample(sample_per_year))\n",
    "bal_dwnSmpl = pd.concat([bal_dwnSmplY,bal_dwnSmplN],axis=0)\n",
    "\n",
    "bal_target = bal_dwnSmpl.admit_NICU #target\n",
    "bal_X = bal_dwnSmpl.drop('admit_NICU',axis=1) #X"
   ]
  },
  {
   "cell_type": "markdown",
   "metadata": {},
   "source": [
    "#### Train RF with best params by training a Grid search for hyp param selection"
   ]
  },
  {
   "cell_type": "code",
   "execution_count": 6,
   "metadata": {},
   "outputs": [
    {
     "name": "stdout",
     "output_type": "stream",
     "text": [
      "Wall time: 1h 40min 16s\n"
     ]
    }
   ],
   "source": [
    "bal_gs = Forest_CV(bal_X,bal_target)\n",
    "bal_rf = RF(bal_X,bal_target,bal_gs)"
   ]
  },
  {
   "cell_type": "code",
   "execution_count": 9,
   "metadata": {
    "collapsed": true
   },
   "outputs": [
    {
     "name": "stdout",
     "output_type": "stream",
     "text": [
      "[[808182  93293]\n",
      " [ 16978  69463]]\n",
      "Random Forest\n",
      "    best param : {'min_samples_leaf': 100, 'n_estimators': 894}\n",
      "    best score : 0.84804\n",
      "    r2         : -0.3980022248736994\n"
     ]
    },
    {
     "data": {
      "text/html": [
       "<div>\n",
       "<style scoped>\n",
       "    .dataframe tbody tr th:only-of-type {\n",
       "        vertical-align: middle;\n",
       "    }\n",
       "\n",
       "    .dataframe tbody tr th {\n",
       "        vertical-align: top;\n",
       "    }\n",
       "\n",
       "    .dataframe thead th {\n",
       "        text-align: right;\n",
       "    }\n",
       "</style>\n",
       "<table border=\"1\" class=\"dataframe\">\n",
       "  <thead>\n",
       "    <tr style=\"text-align: right;\">\n",
       "      <th></th>\n",
       "      <th>col</th>\n",
       "      <th>features</th>\n",
       "    </tr>\n",
       "  </thead>\n",
       "  <tbody>\n",
       "    <tr>\n",
       "      <td>45</td>\n",
       "      <td>obst_est_edit_wk</td>\n",
       "      <td>0.212256</td>\n",
       "    </tr>\n",
       "    <tr>\n",
       "      <td>46</td>\n",
       "      <td>birth_weight_gm</td>\n",
       "      <td>0.143388</td>\n",
       "    </tr>\n",
       "    <tr>\n",
       "      <td>44</td>\n",
       "      <td>combined_gestation_wk</td>\n",
       "      <td>0.129781</td>\n",
       "    </tr>\n",
       "    <tr>\n",
       "      <td>39</td>\n",
       "      <td>APGAR_score_5min</td>\n",
       "      <td>0.095569</td>\n",
       "    </tr>\n",
       "    <tr>\n",
       "      <td>86</td>\n",
       "      <td>antibiotics_for_newborn</td>\n",
       "      <td>0.093497</td>\n",
       "    </tr>\n",
       "    <tr>\n",
       "      <td>83</td>\n",
       "      <td>assist_vent_immed</td>\n",
       "      <td>0.088907</td>\n",
       "    </tr>\n",
       "    <tr>\n",
       "      <td>84</td>\n",
       "      <td>assist_vent_after6</td>\n",
       "      <td>0.028562</td>\n",
       "    </tr>\n",
       "    <tr>\n",
       "      <td>100</td>\n",
       "      <td>infant_transferred</td>\n",
       "      <td>0.027894</td>\n",
       "    </tr>\n",
       "    <tr>\n",
       "      <td>71</td>\n",
       "      <td>steriods</td>\n",
       "      <td>0.023197</td>\n",
       "    </tr>\n",
       "    <tr>\n",
       "      <td>36</td>\n",
       "      <td>final_delivery_method</td>\n",
       "      <td>0.022347</td>\n",
       "    </tr>\n",
       "    <tr>\n",
       "      <td>73</td>\n",
       "      <td>chorioamnionitis</td>\n",
       "      <td>0.018418</td>\n",
       "    </tr>\n",
       "    <tr>\n",
       "      <td>41</td>\n",
       "      <td>plurality</td>\n",
       "      <td>0.014859</td>\n",
       "    </tr>\n",
       "    <tr>\n",
       "      <td>75</td>\n",
       "      <td>trial_of_labor_attempt</td>\n",
       "      <td>0.012903</td>\n",
       "    </tr>\n",
       "    <tr>\n",
       "      <td>40</td>\n",
       "      <td>APGAR_score_10min</td>\n",
       "      <td>0.009622</td>\n",
       "    </tr>\n",
       "    <tr>\n",
       "      <td>24</td>\n",
       "      <td>n_prenatal_visits</td>\n",
       "      <td>0.007551</td>\n",
       "    </tr>\n",
       "    <tr>\n",
       "      <td>21</td>\n",
       "      <td>mo_since_last_live_birth</td>\n",
       "      <td>0.007200</td>\n",
       "    </tr>\n",
       "    <tr>\n",
       "      <td>72</td>\n",
       "      <td>antibiotics</td>\n",
       "      <td>0.006857</td>\n",
       "    </tr>\n",
       "    <tr>\n",
       "      <td>33</td>\n",
       "      <td>no_risk_reported</td>\n",
       "      <td>0.005929</td>\n",
       "    </tr>\n",
       "    <tr>\n",
       "      <td>18</td>\n",
       "      <td>prior_living_births</td>\n",
       "      <td>0.002973</td>\n",
       "    </tr>\n",
       "    <tr>\n",
       "      <td>56</td>\n",
       "      <td>gest_hypten</td>\n",
       "      <td>0.002877</td>\n",
       "    </tr>\n",
       "  </tbody>\n",
       "</table>\n",
       "</div>"
      ],
      "text/plain": [
       "                          col  features\n",
       "45           obst_est_edit_wk  0.212256\n",
       "46            birth_weight_gm  0.143388\n",
       "44      combined_gestation_wk  0.129781\n",
       "39           APGAR_score_5min  0.095569\n",
       "86    antibiotics_for_newborn  0.093497\n",
       "83          assist_vent_immed  0.088907\n",
       "84         assist_vent_after6  0.028562\n",
       "100        infant_transferred  0.027894\n",
       "71                   steriods  0.023197\n",
       "36      final_delivery_method  0.022347\n",
       "73           chorioamnionitis  0.018418\n",
       "41                  plurality  0.014859\n",
       "75     trial_of_labor_attempt  0.012903\n",
       "40          APGAR_score_10min  0.009622\n",
       "24          n_prenatal_visits  0.007551\n",
       "21   mo_since_last_live_birth  0.007200\n",
       "72                antibiotics  0.006857\n",
       "33           no_risk_reported  0.005929\n",
       "18        prior_living_births  0.002973\n",
       "56                gest_hypten  0.002877"
      ]
     },
     "execution_count": 9,
     "metadata": {},
     "output_type": "execute_result"
    }
   ],
   "source": [
    "pred_resultsRF(nicu_YN,bal_gs,bal_rf)\n",
    "feature_select(bal_X,bal_rf)"
   ]
  },
  {
   "cell_type": "markdown",
   "metadata": {},
   "source": [
    "#### Save model for later use if needed"
   ]
  },
  {
   "cell_type": "code",
   "execution_count": null,
   "metadata": {},
   "outputs": [],
   "source": [
    "bal_100k = '../data/processed/bal100K_model.sav'\n",
    "pickle.dump(bal_gs, open(bal_100k, 'wb'))"
   ]
  }
 ],
 "metadata": {
  "kernelspec": {
   "display_name": "Python 3",
   "language": "python",
   "name": "python3"
  },
  "language_info": {
   "codemirror_mode": {
    "name": "ipython",
    "version": 3
   },
   "file_extension": ".py",
   "mimetype": "text/x-python",
   "name": "python",
   "nbconvert_exporter": "python",
   "pygments_lexer": "ipython3",
   "version": "3.7.4"
  }
 },
 "nbformat": 4,
 "nbformat_minor": 2
}
