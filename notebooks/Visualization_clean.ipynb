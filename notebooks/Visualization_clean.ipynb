{
 "cells": [
  {
   "cell_type": "markdown",
   "metadata": {},
   "source": [
    "## Library and Datasets"
   ]
  },
  {
   "cell_type": "code",
   "execution_count": 1,
   "metadata": {},
   "outputs": [],
   "source": [
    "import pandas as pd\n",
    "import numpy as np\n",
    "import math\n",
    "import matplotlib.pyplot as plt"
   ]
  },
  {
   "cell_type": "code",
   "execution_count": 2,
   "metadata": {},
   "outputs": [],
   "source": [
    "births = pd.read_csv('../data/processed/totDF_dwnsmpl_clean.csv')"
   ]
  },
  {
   "cell_type": "markdown",
   "metadata": {},
   "source": [
    "## Functions"
   ]
  },
  {
   "cell_type": "code",
   "execution_count": 4,
   "metadata": {},
   "outputs": [],
   "source": [
    "# Mask a category in a feature \n",
    "#Example remove all 'U' for target feature\n",
    "def remove_category(dataframe, column = str, category = 'U'):\n",
    "    df = dataframe.loc[dataframe[column] != category]\n",
    "    return df\n",
    "\n",
    "# Make a dataframe suitable for plotting a stacked bar graph with percentage of total as values for each sub category\n",
    "def make_pctdf(dataframe , group = str, target = 'admit_NICU',  columns_titles = ['Y','N']):\n",
    "    df1 = births_nou.loc[(births[group] == 'Y')].groupby([group])[[target]].count()\n",
    "    df2 = births_nou.loc[(births[group] == 'Y')].groupby([group])[target].value_counts().unstack()\n",
    "    df2 = df2.reindex(columns=columns_titles)\n",
    "    df3 = pd.merge(df1,df2, left_index = True, right_index = True)\n",
    "    pct_df = pd.DataFrame(list(map(lambda x: df3[x]/df3[target] * 100, df3.columns[1:])))\n",
    "    return pct_df.T\n",
    "\n",
    "#Make a dataframe suitable for plotting a bar graph with counts of one subcategory of feature\n",
    "#For example inlcude only observations marked 'Y', exclude other values\n",
    "def make_cntdf(dataframe , group = str, filter_output = 'Y', target = 'admit_NICU',  columns_titles = ['Y','N']):\n",
    "    df1 = births_nou.loc[(births[group] == filter_output)].groupby([group])[[target]].count()\n",
    "    return df1\n",
    "\n",
    "#simple stacked bar graph with percentage of total as values for each sub category, for ease of examination\n",
    "def pct_bplot(dataframe, group = str, target = 'admit_NICU', columns_titles = ['Y','N'] ):\n",
    "    df1 = dataframe.groupby([group])[[target]].count()\n",
    "    df2 =  dataframe.groupby([group])[target].value_counts().unstack()\n",
    "    df2 = df2.reindex(columns=columns_titles)\n",
    "    df3 = pd.merge(df1,df2, left_index = True, right_index = True)\n",
    "    pct_df = pd.DataFrame(list(map(lambda x: df3[x]/df3[target] * 100, df3.columns[1:])))\n",
    "    pct_df = pct_df.T\n",
    "    pct_df.plot(kind = 'bar', stacked = True, legend = False)\n",
    "\n",
    "#plot time series for target column\n",
    "def plot_gpYR(df,col,xlab,ylab,title,kind='line'):\n",
    "    groupDF = df.groupby('birth_year')[col].value_counts().unstack()\n",
    "    plt.figure(figsize=(20,20))\n",
    "    groupDF.plot(kind=kind,logy=True, legend=True)\n",
    "    plt.xlabel(xlab)\n",
    "    plt.ylabel(ylab)\n",
    "    plt.title(title)\n",
    "    return\n",
    "#Value counts for target column, and value counts for target column when group be year\n",
    "def val_check(data_frame, column_name = str):\n",
    "    df = pd.DataFrame(data_frame)\n",
    "    col = column_name\n",
    "    print( \"Value counts of %s \\n\" %(col), df[col].value_counts())\n",
    "    print(\"Value counts of %s by year \\n\" %(col), df.groupby(['birth_year'])[col].value_counts())\n",
    "    \n",
    "#save plots, run within plotting cells\n",
    "def saveplt(filename):\n",
    "    path = './Saved_Visualizations/'\n",
    "    file1 = path + filename + '.pdf'\n",
    "    file2 = path + filename + '.png'\n",
    "    plt.savefig(file1) #as pdf\n",
    "    plt.savefig(file2) #as png\n",
    "    \n",
    "def pct_bplot2(dataframe, group = str, target = 'admit_NICU', columns_titles = ['Y','N'] ):\n",
    "    df1 = dataframe.groupby([group])[target].count()\n",
    "    df2 =  dataframe.groupby([group])[target].value_counts().unstack()\n",
    "    df2 = df2.reindex(columns=columns_titles)\n",
    "    df3 = pd.merge(df1,df2, left_index = True, right_index = True)\n",
    "    pct_df = pd.DataFrame(list(map(lambda x: df3[x]/df3[target], df3.columns[1:])))\n",
    "    pct_df = pct_df.T\n",
    "    #pct_df.plot(kind = 'bar', stacked = True, legend = True)\n",
    "    return pct_df\n",
    "   "
   ]
  },
  {
   "cell_type": "markdown",
   "metadata": {},
   "source": [
    "## Group Lists and Recoded Columns\n"
   ]
  },
  {
   "cell_type": "code",
   "execution_count": 8,
   "metadata": {},
   "outputs": [
    {
     "name": "stderr",
     "output_type": "stream",
     "text": [
      "/opt/anaconda3/lib/python3.7/site-packages/ipykernel_launcher.py:13: SettingWithCopyWarning: \n",
      "A value is trying to be set on a copy of a slice from a DataFrame.\n",
      "Try using .loc[row_indexer,col_indexer] = value instead\n",
      "\n",
      "See the caveats in the documentation: http://pandas.pydata.org/pandas-docs/stable/user_guide/indexing.html#returning-a-view-versus-a-copy\n",
      "  del sys.path[0]\n"
     ]
    }
   ],
   "source": [
    "#Columns recoded for better display\n",
    "births['mother_bmi_recode'] = pd.cut(births['mothers_bmi'],[10.0,19.0, 25.0,30.0,35.0,40.0,90.0], \n",
    "                                     labels = ['u','h','o','ob1','ob2','ob3'])\n",
    "\n",
    "births['mothers_age_groups']= pd.cut(births['mothers_age'], 4, labels = ['12-19', '20-29', '30-39','40-50'])\n",
    "\n",
    "births['mothers_age_groups2']= pd.cut(births['mothers_age'], [0,14,19,24,29,34,39,44,49,100],\n",
    "                                     labels = ['<15', '15-19', '20-24','25-29','30-34',\n",
    "                                               '35-39','40-44','45-49','50-100'])\n",
    "births_nou['bw_recode'] = pd.cut(births_nou['birth_weight_gm'],\n",
    "                                   [0,499, 999,1499,1999,2499,2999,3499,3999,4499,4999,8200],\n",
    "                                labels = ['<500', '1000', '1500', '2000','2500','3000',\n",
    "                                          '3500','4000','4500', '5000', '5500+'])\n",
    "\n",
    "#Lists of Column names and Full Names for plots of related columns\n",
    "lstmom_health_risks_cnames = ['gest_diab','pre_preg_diab', 'gest_hypten', 'pre_preg_hypten',\n",
    "                              'hypten_ecl', 'prev_preterm_birth']\n",
    "lstmom_health_risks_fullnames =['Gestational Diabetes', \"Pre-pregancy Diabetes\",'Gestational Hypertension',\n",
    "                                'Pre-pregnancy Hypertension', 'Hypertension Eclampsia', 'Previous Pre-term Birth']\n",
    "\n",
    "lstmom_infections_cnames = ['gonorrhea','syphilis', 'chlamydia', 'hepB', 'hepC']\n",
    "lstmom_infections_fullnames =['Gonorrhea', \"Syphilis\",'Chlamydia', 'Hepatis B', 'Hepatitis C']\n",
    "\n",
    "lstdelivery_type_cnames = ['infertility_treatment','fertil_enhance', 'asst_repro_tech']\n",
    "lstdelivery_type_fullnames =['Infertility Treatment', \"Fertility Enhancement\",'Assistant Reproductive Technology']\n",
    "\n",
    "lstmom_delivery_complication_cnames = ['perineal_laceration', 'rupt_uterus','unplanned_hyster', 'admit_to_IC', \n",
    "                                   'induced_labor', 'aug_labor', 'steriods', 'antibiotics', 'chorioamnionitis']\n",
    "lstmom_delivery_complications_fullnames =['Perineal Laceration', 'Rupture Uterus','Unplanned Hysterectomy', \n",
    "                                      'Mother Admitted to IC','Induced Labor', 'AugLabor', 'Steroids',\n",
    "                                      'Antibiotics','Chorioamnionitis' ]\n",
    "\n",
    "lst_infant_delivery_complication_cnames = ['assist_vent_immed','assist_vent_after6',\n",
    "                                           'surfactant', 'antibiotics_for_newborn']\n",
    "lst_infant_delivery_complication_fullnames = ['Assist Ventilation Immediately','Assist Ventilation > 6hr', \n",
    "                                              'Surfactant', 'Antibiotics for Newborn']\n",
    "\n",
    "lstinfant_congenital_cnames = ['seizures','anencephaly', 'meningo_spina_bif', 'cyn_cong_heart_disease',\n",
    "                                'cong_diaph_hernia', 'omphalocele', 'gastroschisis','limb_reduc_defect', \n",
    "                                'cleft_lip_or_palate', 'cleft_palate_only','hypospadias']\n",
    "lstinfant_congeital_fullnames = ['Seizures','Anencephaly', 'Mening-Spina Bifida', 'CCHD','Diaphrapgm Hernia', \n",
    "                                    'Omphalocele', 'Gastroschisis','Limb reduced Defect', 'Cleft Lip or Palate', \n",
    "                                    'Cleft Palate Only','Hypospadias']\n",
    "lstplurality_fullname = ['1','2','3','4','5+']"
   ]
  },
  {
   "cell_type": "code",
   "execution_count": null,
   "metadata": {},
   "outputs": [],
   "source": []
  }
 ],
 "metadata": {
  "kernelspec": {
   "display_name": "Python 3",
   "language": "python",
   "name": "python3"
  },
  "language_info": {
   "codemirror_mode": {
    "name": "ipython",
    "version": 3
   },
   "file_extension": ".py",
   "mimetype": "text/x-python",
   "name": "python",
   "nbconvert_exporter": "python",
   "pygments_lexer": "ipython3",
   "version": "3.7.4"
  }
 },
 "nbformat": 4,
 "nbformat_minor": 2
}
