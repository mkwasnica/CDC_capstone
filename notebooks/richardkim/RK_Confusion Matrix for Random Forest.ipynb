{
 "cells": [
  {
   "cell_type": "code",
   "execution_count": 1,
   "metadata": {},
   "outputs": [],
   "source": [
    "import pandas as pd\n",
    "import numpy as np\n",
    "# import random as rn\n",
    "# import sklearn\n",
    "# from scipy import stats\n",
    "# import math\n",
    "import re\n",
    "\n",
    "from sklearn.preprocessing import  LabelEncoder #OneHotEncoder\n",
    "# from sklearn import ensemble\n",
    "from sklearn import linear_model\n",
    "\n",
    "# from sklearn.model_selection import GridSearchCV,cross_val_score\n",
    "# from sklearn.metrics import r2_score, mean_squared_error, mean_absolute_error,accuracy_score\n",
    "\n",
    "# # from sklearn.ensemble import RandomForestClassifier\n",
    "# from sklearn import linear_model\n",
    "\n",
    "# import matplotlib.pyplot as plt\n",
    "# import seaborn as sns\n",
    "# from sklearn.linear_model import LinearRegression, Ridge, Lasso, ElasticNet, RidgeCV, LassoCV\n",
    "\n",
    "import pickle"
   ]
  },
  {
   "cell_type": "code",
   "execution_count": 11,
   "metadata": {},
   "outputs": [],
   "source": [
    "totDF = pd.read_csv('../../data/processed/Cleaned_Data_Set.csv')"
   ]
  },
  {
   "cell_type": "code",
   "execution_count": 12,
   "metadata": {},
   "outputs": [],
   "source": [
    "def cleanDF (df):\n",
    "    r1 = re.compile('.*reporting')\n",
    "    r2 = re.compile('.*imputed')\n",
    "\n",
    "    cols_to_drop1 = list(filter((r1.match), df.columns))\n",
    "    cols_to_drop2 = list(filter((r2.match), df.columns))\n",
    "    cols_to_drop3 = ['admit_NICU']\n",
    "    cols_to_drop = cols_to_drop1 + cols_to_drop2 + cols_to_drop3\n",
    "\n",
    "    cols_to_keep = [col for col in df.columns if col not in cols_to_drop]\n",
    "\n",
    "    X_and_target = df[cols_to_keep + ['admit_NICU']].copy()\n",
    "\n",
    "    numerics = ['int16', 'int32', 'int64', 'float16', 'float32', 'float64']\n",
    "    catDF = X_and_target.select_dtypes(include=object).copy()\n",
    "    numDF = X_and_target.select_dtypes(include=numerics).copy() #only numeric columns\n",
    "\n",
    "    le = LabelEncoder()\n",
    "    catDF = catDF.apply(le.fit_transform)\n",
    "\n",
    "    concat_df = pd.concat([numDF,catDF],axis=1)\n",
    "    return concat_df"
   ]
  },
  {
   "cell_type": "code",
   "execution_count": 37,
   "metadata": {},
   "outputs": [],
   "source": [
    "cl_df = cleanDF(totDF)\n",
    "nicu_allY = cl_df.loc[cl_df['admit_NICU']==2]\n",
    "nicu_allN = cl_df.loc[cl_df['admit_NICU']==0]\n",
    "cl_df_X = cl_df.drop('admit_NICU',axis=1)"
   ]
  },
  {
   "cell_type": "code",
   "execution_count": 38,
   "metadata": {},
   "outputs": [],
   "source": [
    "nicu_YN = pd.concat([nicu_allY, nicu_allN],axis=0)\n",
    "nicu_YN_X = nicu_YN.drop('admit_NICU', axis =1)"
   ]
  },
  {
   "cell_type": "code",
   "execution_count": 3,
   "metadata": {},
   "outputs": [],
   "source": [
    "bal100K_model = pickle.load(open('bal100K_model.sav', 'rb'))"
   ]
  },
  {
   "cell_type": "code",
   "execution_count": 39,
   "metadata": {},
   "outputs": [],
   "source": [
    "y_pred = bal100K_model.predict(nicu_YN_X)"
   ]
  },
  {
   "cell_type": "code",
   "execution_count": 49,
   "metadata": {},
   "outputs": [
    {
     "data": {
      "text/plain": [
       "0.84814"
      ]
     },
     "execution_count": 49,
     "metadata": {},
     "output_type": "execute_result"
    }
   ],
   "source": [
    "bal100K_model.best_score_"
   ]
  },
  {
   "cell_type": "code",
   "execution_count": 41,
   "metadata": {},
   "outputs": [
    {
     "name": "stdout",
     "output_type": "stream",
     "text": [
      "[[80.6777  9.4698]\n",
      " [ 1.7066  6.9375]]\n"
     ]
    }
   ],
   "source": [
    "from sklearn.metrics import confusion_matrix\n",
    "\n",
    "cf = confusion_matrix(nicu_YN.admit_NICU,y_pred)\n",
    "np.set_printoptions(suppress=True)\n",
    "print(cf/len(cl_df)*100)"
   ]
  }
 ],
 "metadata": {
  "kernelspec": {
   "display_name": "Python 3",
   "language": "python",
   "name": "python3"
  },
  "language_info": {
   "codemirror_mode": {
    "name": "ipython",
    "version": 3
   },
   "file_extension": ".py",
   "mimetype": "text/x-python",
   "name": "python",
   "nbconvert_exporter": "python",
   "pygments_lexer": "ipython3",
   "version": "3.7.6"
  }
 },
 "nbformat": 4,
 "nbformat_minor": 2
}
